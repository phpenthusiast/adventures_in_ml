{
  "nbformat": 4,
  "nbformat_minor": 0,
  "metadata": {
    "colab": {
      "name": "develop_model_hand_written_digit_recognition_with_keras.ipynb",
      "version": "0.3.2",
      "provenance": [],
      "collapsed_sections": []
    },
    "kernelspec": {
      "name": "python3",
      "display_name": "Python 3"
    }
  },
  "cells": [
    {
      "metadata": {
        "id": "f7kHeShPaA7t",
        "colab_type": "text"
      },
      "cell_type": "markdown",
      "source": [
        "# Develop model for hand written digit recognition with Keras\n",
        "MNIST dataset\n",
        "\n",
        "Keras library\n",
        "\n",
        "I learned the model training from an excellent tutorial by Jason Brownlee at https://machinelearningmastery.com/handwritten-digit-recognition-using-convolutional-neural-networks-python-keras/ "
      ]
    },
    {
      "metadata": {
        "id": "emixPOG8aW_Q",
        "colab_type": "text"
      },
      "cell_type": "markdown",
      "source": [
        "# Imports"
      ]
    },
    {
      "metadata": {
        "id": "KyFqHv1b1TEO",
        "colab_type": "code",
        "colab": {
          "base_uri": "https://localhost:8080/",
          "height": 34
        },
        "outputId": "ddbb3ce5-4f49-4d9e-f460-4bfb8327a5bd"
      },
      "cell_type": "code",
      "source": [
        "import numpy\n",
        "from keras.datasets import mnist\n",
        "from keras.models import Sequential\n",
        "from keras.layers import Dense\n",
        "from keras.layers import Dropout\n",
        "from keras.utils import np_utils"
      ],
      "execution_count": 2,
      "outputs": [
        {
          "output_type": "stream",
          "text": [
            "Using TensorFlow backend.\n"
          ],
          "name": "stderr"
        }
      ]
    },
    {
      "metadata": {
        "id": "H5tGbAT81aVk",
        "colab_type": "text"
      },
      "cell_type": "markdown",
      "source": [
        "# Preparing the data"
      ]
    },
    {
      "metadata": {
        "id": "8BW4jm_H1kzF",
        "colab_type": "code",
        "colab": {
          "base_uri": "https://localhost:8080/",
          "height": 51
        },
        "outputId": "261bbd71-00f4-4653-adfb-ad6c46ef8ce4"
      },
      "cell_type": "code",
      "source": [
        "# fix random seed for reproducibility\n",
        "seed = 7\n",
        "numpy.random.seed(seed)\n",
        "\n",
        "# load data\n",
        "(X_train, y_train), (X_test, y_test) = mnist.load_data()\n",
        "\n",
        "# flatten 28*28 images to a 784 vector for each image\n",
        "num_pixels = X_train.shape[1] * X_train.shape[2]\n",
        "X_train = X_train.reshape(X_train.shape[0], num_pixels).astype('float32')\n",
        "X_test = X_test.reshape(X_test.shape[0], num_pixels).astype('float32')\n",
        "\n",
        "# normalize inputs from 0-255 to 0-1\n",
        "X_train = X_train / 255\n",
        "X_test = X_test / 255\n",
        "\n",
        "# one hot encode outputs\n",
        "y_train = np_utils.to_categorical(y_train)\n",
        "y_test = np_utils.to_categorical(y_test)\n",
        "num_classes = y_test.shape[1]"
      ],
      "execution_count": 3,
      "outputs": [
        {
          "output_type": "stream",
          "text": [
            "Downloading data from https://s3.amazonaws.com/img-datasets/mnist.npz\n",
            "11493376/11490434 [==============================] - 1s 0us/step\n"
          ],
          "name": "stdout"
        }
      ]
    },
    {
      "metadata": {
        "id": "irNJvBb50pk3",
        "colab_type": "text"
      },
      "cell_type": "markdown",
      "source": [
        "# Visualize the dataset"
      ]
    },
    {
      "metadata": {
        "id": "HkL_dNFt0vY3",
        "colab_type": "code",
        "colab": {
          "base_uri": "https://localhost:8080/",
          "height": 1752
        },
        "outputId": "d91147ca-dcc5-4ff2-aa86-eacc14491d75"
      },
      "cell_type": "code",
      "source": [
        "import matplotlib.pyplot as plt\n",
        "\n",
        "# plot 4 images\n",
        "for i in range(5):\n",
        "    # Plot image.\n",
        "    plt.imshow(X_train[i].reshape([28,28]), cmap='binary')\n",
        "    plt.show()\n",
        "    \n",
        "    # And show the correct value\n",
        "    for idx, val in enumerate(y_train[i]):\n",
        "      if(val==1):\n",
        "        print('one-hot encoding: ', y_train[i],' correct value:',idx)"
      ],
      "execution_count": 38,
      "outputs": [
        {
          "output_type": "display_data",
          "data": {
            "image/png": "[encoded data removed]",
            "text/plain": [
              "<matplotlib.figure.Figure at 0x7f51dca59c88>"
            ]
          },
          "metadata": {
            "tags": []
          }
        },
        {
          "output_type": "stream",
          "text": [
            "one-hot encoding:  [0. 0. 0. 0. 0. 1. 0. 0. 0. 0.]  true value: 5\n"
          ],
          "name": "stdout"
        },
        {
          "output_type": "display_data",
          "data": {
            "image/png": "[encoded data removed]",
            "text/plain": [
              "<matplotlib.figure.Figure at 0x7f51dcf34860>"
            ]
          },
          "metadata": {
            "tags": []
          }
        },
        {
          "output_type": "stream",
          "text": [
            "one-hot encoding:  [1. 0. 0. 0. 0. 0. 0. 0. 0. 0.]  true value: 0\n"
          ],
          "name": "stdout"
        },
        {
          "output_type": "display_data",
          "data": {
            "image/png": "[encoded data removed]",
            "text/plain": [
              "<matplotlib.figure.Figure at 0x7f51dccc3ac8>"
            ]
          },
          "metadata": {
            "tags": []
          }
        },
        {
          "output_type": "stream",
          "text": [
            "one-hot encoding:  [0. 0. 0. 0. 1. 0. 0. 0. 0. 0.]  true value: 4\n"
          ],
          "name": "stdout"
        },
        {
          "output_type": "display_data",
          "data": {
            "image/png": "[encoded data removed]",
            "text/plain": [
              "<matplotlib.figure.Figure at 0x7f51dcc340f0>"
            ]
          },
          "metadata": {
            "tags": []
          }
        },
        {
          "output_type": "stream",
          "text": [
            "one-hot encoding:  [0. 1. 0. 0. 0. 0. 0. 0. 0. 0.]  true value: 1\n"
          ],
          "name": "stdout"
        },
        {
          "output_type": "display_data",
          "data": {
            "image/png": "[encoded data removed]",
            "text/plain": [
              "<matplotlib.figure.Figure at 0x7f51dc8ab9b0>"
            ]
          },
          "metadata": {
            "tags": []
          }
        },
        {
          "output_type": "stream",
          "text": [
            "one-hot encoding:  [0. 0. 0. 0. 0. 0. 0. 0. 0. 1.]  true value: 9\n"
          ],
          "name": "stdout"
        }
      ]
    },
    {
      "metadata": {
        "id": "ZD7IkAgm1sAD",
        "colab_type": "text"
      },
      "cell_type": "markdown",
      "source": [
        "# Train"
      ]
    },
    {
      "metadata": {
        "id": "KwhfMNSl1uU-",
        "colab_type": "code",
        "colab": {
          "base_uri": "https://localhost:8080/",
          "height": 391
        },
        "outputId": "473c547e-b04e-4175-82df-51638a9c7fad"
      },
      "cell_type": "code",
      "source": [
        "def baseline_model():\n",
        "\t# create model\n",
        "\tmodel = Sequential()\n",
        "\tmodel.add(Dense(num_pixels, input_dim=num_pixels, kernel_initializer='normal', activation='relu'))\n",
        "\tmodel.add(Dense(num_classes, kernel_initializer='normal', activation='softmax'))\n",
        "\t# Compile model\n",
        "\tmodel.compile(loss='categorical_crossentropy', optimizer='adam', metrics=['accuracy'])\n",
        "\treturn model\n",
        "\n",
        "# build the model\n",
        "model = baseline_model()\n",
        "\n",
        "# Fit the model\n",
        "model.fit(X_train, y_train, validation_data=(X_test, y_test), epochs=10, batch_size=200, verbose=2)"
      ],
      "execution_count": 39,
      "outputs": [
        {
          "output_type": "stream",
          "text": [
            "Train on 60000 samples, validate on 10000 samples\n",
            "Epoch 1/10\n",
            " - 6s - loss: 0.2782 - acc: 0.9210 - val_loss: 0.1415 - val_acc: 0.9570\n",
            "Epoch 2/10\n",
            " - 6s - loss: 0.1115 - acc: 0.9678 - val_loss: 0.0922 - val_acc: 0.9708\n",
            "Epoch 3/10\n",
            " - 6s - loss: 0.0717 - acc: 0.9797 - val_loss: 0.0782 - val_acc: 0.9774\n",
            "Epoch 4/10\n",
            " - 6s - loss: 0.0504 - acc: 0.9858 - val_loss: 0.0741 - val_acc: 0.9770\n",
            "Epoch 5/10\n",
            " - 6s - loss: 0.0373 - acc: 0.9894 - val_loss: 0.0669 - val_acc: 0.9789\n",
            "Epoch 6/10\n",
            " - 6s - loss: 0.0268 - acc: 0.9928 - val_loss: 0.0630 - val_acc: 0.9811\n",
            "Epoch 7/10\n",
            " - 6s - loss: 0.0212 - acc: 0.9946 - val_loss: 0.0616 - val_acc: 0.9807\n",
            "Epoch 8/10\n",
            " - 6s - loss: 0.0143 - acc: 0.9968 - val_loss: 0.0620 - val_acc: 0.9804\n",
            "Epoch 9/10\n",
            " - 6s - loss: 0.0108 - acc: 0.9978 - val_loss: 0.0589 - val_acc: 0.9811\n",
            "Epoch 10/10\n",
            " - 6s - loss: 0.0079 - acc: 0.9985 - val_loss: 0.0595 - val_acc: 0.9817\n"
          ],
          "name": "stdout"
        },
        {
          "output_type": "execute_result",
          "data": {
            "text/plain": [
              "<keras.callbacks.History at 0x7f51dc8a4940>"
            ]
          },
          "metadata": {
            "tags": []
          },
          "execution_count": 39
        }
      ]
    },
    {
      "metadata": {
        "id": "t9epG8d02VGS",
        "colab_type": "text"
      },
      "cell_type": "markdown",
      "source": [
        "# Evaluate"
      ]
    },
    {
      "metadata": {
        "id": "ZbCFctB3aMgt",
        "colab_type": "code",
        "colab": {
          "base_uri": "https://localhost:8080/",
          "height": 34
        },
        "outputId": "93d70de6-4ffe-4bea-a345-18eae4250277"
      },
      "cell_type": "code",
      "source": [
        "# Evaluate the model against the test dataset\n",
        "scores = model.evaluate(X_test, y_test, verbose=0)\n",
        "print(\"Baseline Error: %.2f%%\" % (100-scores[1]*100))"
      ],
      "execution_count": 40,
      "outputs": [
        {
          "output_type": "stream",
          "text": [
            "Baseline Error: 1.83%\n"
          ],
          "name": "stdout"
        }
      ]
    },
    {
      "metadata": {
        "id": "f_AuP1If2w7O",
        "colab_type": "text"
      },
      "cell_type": "markdown",
      "source": [
        "# Save model to disk"
      ]
    },
    {
      "metadata": {
        "id": "KicqVzmYkizG",
        "colab_type": "code",
        "colab": {}
      },
      "cell_type": "code",
      "source": [
        "!mkdir Models\n",
        "!mkdir ModelJS"
      ],
      "execution_count": 0,
      "outputs": []
    },
    {
      "metadata": {
        "id": "i-yfNxq8jJNR",
        "colab_type": "code",
        "colab": {}
      },
      "cell_type": "code",
      "source": [
        "!ls -la"
      ],
      "execution_count": 0,
      "outputs": []
    },
    {
      "metadata": {
        "id": "gPUefyAhmsUB",
        "colab_type": "code",
        "colab": {
          "base_uri": "https://localhost:8080/",
          "height": 34
        },
        "outputId": "72b9cfbf-1c57-4d55-8c44-8113badc727a"
      },
      "cell_type": "code",
      "source": [
        "# Save Python model\n",
        "model.save('Models/model.h5',overwrite=True)\n",
        "print(\"Saved model to disk\")"
      ],
      "execution_count": 6,
      "outputs": [
        {
          "output_type": "stream",
          "text": [
            "Saved model to disk\n"
          ],
          "name": "stdout"
        }
      ]
    },
    {
      "metadata": {
        "id": "Sg4QxqRg22wq",
        "colab_type": "text"
      },
      "cell_type": "markdown",
      "source": [
        "# Export the model\n",
        "to json file that we can later use as an API"
      ]
    },
    {
      "metadata": {
        "id": "W1l7zjBYW6NE",
        "colab_type": "code",
        "colab": {}
      },
      "cell_type": "code",
      "source": [
        "!pip3 install tensorflowjs"
      ],
      "execution_count": 0,
      "outputs": []
    },
    {
      "metadata": {
        "id": "UyfFJXAQnDQy",
        "colab_type": "code",
        "colab": {
          "base_uri": "https://localhost:8080/",
          "height": 34
        },
        "outputId": "8f6bb6f7-89e6-4bc8-bab6-518c27273287"
      },
      "cell_type": "code",
      "source": [
        "!tensorflowjs_converter --input_format=keras Models/model.h5 ModelJS/"
      ],
      "execution_count": 0,
      "outputs": [
        {
          "output_type": "stream",
          "text": [
            "Using TensorFlow backend.\n"
          ],
          "name": "stdout"
        }
      ]
    },
    {
      "metadata": {
        "id": "UNYJnmuRnHhx",
        "colab_type": "code",
        "colab": {
          "base_uri": "https://localhost:8080/",
          "height": 51
        },
        "outputId": "0822440d-b73c-4935-88dd-7974e270fa0e"
      },
      "cell_type": "code",
      "source": [
        "import os\n",
        "from google.colab import files\n",
        "\n",
        "folder = 'ModelJS/'\n",
        "\n",
        "for filename in os.listdir(folder):\n",
        "  files.download('%s%s' % (folder,filename)) \n",
        "  print(\"download %s%s\" % (folder,filename))"
      ],
      "execution_count": 0,
      "outputs": [
        {
          "output_type": "stream",
          "text": [
            "download ModelJS/group1-shard1of1\n",
            "download ModelJS/model.json\n"
          ],
          "name": "stdout"
        }
      ]
    }
  ]
}
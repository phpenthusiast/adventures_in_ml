{
  "nbformat": 4,
  "nbformat_minor": 0,
  "metadata": {
    "colab": {
      "name": "develop_model_hand_written_digit_recognition_with_keras.ipynb",
      "version": "0.3.2",
      "provenance": [],
      "collapsed_sections": []
    },
    "kernelspec": {
      "name": "python3",
      "display_name": "Python 3"
    }
  },
  "cells": [
    {
      "metadata": {
        "id": "f7kHeShPaA7t",
        "colab_type": "text"
      },
      "cell_type": "markdown",
      "source": [
        "# Simple Convolutional Neural Network for MNIST\n",
        "MNIST dataset\n",
        "\n",
        "Keras library\n",
        "\n",
        "I learned the model training from an excellent tutorial by Jason Brownlee at https://machinelearningmastery.com/handwritten-digit-recognition-using-convolutional-neural-networks-python-keras/ "
      ]
    },
    {
      "metadata": {
        "id": "emixPOG8aW_Q",
        "colab_type": "text"
      },
      "cell_type": "markdown",
      "source": [
        "# Imports"
      ]
    },
    {
      "metadata": {
        "id": "KyFqHv1b1TEO",
        "colab_type": "code",
        "colab": {}
      },
      "cell_type": "code",
      "source": [
        "import numpy\n",
        "from keras.datasets import mnist\n",
        "from keras.models import Sequential\n",
        "from keras.layers import Dense\n",
        "from keras.layers import Dropout\n",
        "from keras.layers import Flatten\n",
        "from keras.layers.convolutional import Conv2D\n",
        "from keras.layers.convolutional import MaxPooling2D\n",
        "from keras.utils import np_utils\n",
        "from keras import backend as K\n",
        "K.set_image_dim_ordering('th')\n",
        "\n",
        "from pprint import pprint\n"
      ],
      "execution_count": 0,
      "outputs": []
    },
    {
      "metadata": {
        "id": "H5tGbAT81aVk",
        "colab_type": "text"
      },
      "cell_type": "markdown",
      "source": [
        "# Preparing the data"
      ]
    },
    {
      "metadata": {
        "id": "8BW4jm_H1kzF",
        "colab_type": "code",
        "colab": {}
      },
      "cell_type": "code",
      "source": [
        "# fix random seed for reproducibility\n",
        "seed = 7\n",
        "numpy.random.seed(seed)\n",
        "\n",
        "# load data\n",
        "(X_train, y_train), (X_test, y_test) = mnist.load_data()\n",
        "\n",
        "# reshape to be [samples][pixels][width][height]\n",
        "X_train = X_train.reshape(X_train.shape[0], 1, 28, 28).astype('float32')\n",
        "X_test = X_test.reshape(X_test.shape[0], 1, 28, 28).astype('float32')\n"
      ],
      "execution_count": 0,
      "outputs": []
    },
    {
      "metadata": {
        "id": "fyUhctpxgJah",
        "colab_type": "code",
        "colab": {}
      },
      "cell_type": "code",
      "source": [
        "# normalize inputs from 0-255 to 0-1\n",
        "X_train = X_train / 255\n",
        "X_test = X_test / 255\n",
        "\n",
        "# one hot encode outputs\n",
        "y_train = np_utils.to_categorical(y_train)\n",
        "y_test = np_utils.to_categorical(y_test)\n",
        "num_classes = y_test.shape[1]"
      ],
      "execution_count": 0,
      "outputs": []
    },
    {
      "metadata": {
        "id": "irNJvBb50pk3",
        "colab_type": "text"
      },
      "cell_type": "markdown",
      "source": [
        "# Visualize the dataset"
      ]
    },
    {
      "metadata": {
        "id": "HkL_dNFt0vY3",
        "colab_type": "code",
        "colab": {
          "base_uri": "https://localhost:8080/",
          "height": 1752
        },
        "outputId": "334f6259-8729-4df1-9542-d82e6955be60"
      },
      "cell_type": "code",
      "source": [
        "import matplotlib.pyplot as plt\n",
        "\n",
        "# plot 4 images\n",
        "for i in range(5):\n",
        "    # Plot image.\n",
        "    plt.imshow(X_train[i].reshape([28,28]), cmap=plt.get_cmap('gray'))\n",
        "    plt.show()\n",
        "    \n",
        "    for idx, val in enumerate(y_train[i]):\n",
        "      if(val == 1):\n",
        "        print('The correct value: ', idx)"
      ],
      "execution_count": 35,
      "outputs": [
        {
          "output_type": "display_data",
          "data": {
            "image/png": "[encoded data removed]",
            "text/plain": [
              "<matplotlib.figure.Figure at 0x7fe8a76b3da0>"
            ]
          },
          "metadata": {
            "tags": []
          }
        },
        {
          "output_type": "stream",
          "text": [
            "The correct value:  5\n"
          ],
          "name": "stdout"
        },
        {
          "output_type": "display_data",
          "data": {
            "image/png": "[encoded data removed]",
            "text/plain": [
              "<matplotlib.figure.Figure at 0x7fe8aa51a588>"
            ]
          },
          "metadata": {
            "tags": []
          }
        },
        {
          "output_type": "stream",
          "text": [
            "The correct value:  0\n"
          ],
          "name": "stdout"
        },
        {
          "output_type": "display_data",
          "data": {
            "image/png": "[encoded data removed]",
            "text/plain": [
              "<matplotlib.figure.Figure at 0x7fe8a7adbb70>"
            ]
          },
          "metadata": {
            "tags": []
          }
        },
        {
          "output_type": "stream",
          "text": [
            "The correct value:  4\n"
          ],
          "name": "stdout"
        },
        {
          "output_type": "display_data",
          "data": {
            "image/png": "[encoded data removed]",
            "text/plain": [
              "<matplotlib.figure.Figure at 0x7fe8aa46d588>"
            ]
          },
          "metadata": {
            "tags": []
          }
        },
        {
          "output_type": "stream",
          "text": [
            "The correct value:  1\n"
          ],
          "name": "stdout"
        },
        {
          "output_type": "display_data",
          "data": {
            "image/png": "[encoded data removed]",
            "text/plain": [
              "<matplotlib.figure.Figure at 0x7fe8a7b3b0f0>"
            ]
          },
          "metadata": {
            "tags": []
          }
        },
        {
          "output_type": "stream",
          "text": [
            "The correct value:  9\n"
          ],
          "name": "stdout"
        }
      ]
    },
    {
      "metadata": {
        "id": "w0_Y0tgHe0wb",
        "colab_type": "text"
      },
      "cell_type": "markdown",
      "source": [
        "# Prepare the image data sets"
      ]
    },
    {
      "metadata": {
        "id": "ZD7IkAgm1sAD",
        "colab_type": "text"
      },
      "cell_type": "markdown",
      "source": [
        "# Train"
      ]
    },
    {
      "metadata": {
        "id": "KwhfMNSl1uU-",
        "colab_type": "code",
        "colab": {
          "base_uri": "https://localhost:8080/",
          "height": 391
        },
        "outputId": "ab857ba1-cc04-428f-86b9-e96ae2006ebf"
      },
      "cell_type": "code",
      "source": [
        "def baseline_model():\n",
        "\t# create model\n",
        "\tmodel = Sequential()\n",
        "\tmodel.add(Conv2D(32, (5, 5), input_shape=(1, 28, 28), activation='relu'))\n",
        "\tmodel.add(MaxPooling2D(pool_size=(2, 2)))\n",
        "\tmodel.add(Dropout(0.2))\n",
        "\tmodel.add(Flatten())\n",
        "\tmodel.add(Dense(128, activation='relu'))\n",
        "\tmodel.add(Dense(num_classes, activation='softmax'))\n",
        "  \n",
        "\t# Compile model\n",
        "\tmodel.compile(loss='categorical_crossentropy', optimizer='adam', metrics=['accuracy'])\n",
        "\treturn model\n",
        "\n",
        "# build the model\n",
        "model = baseline_model()\n",
        "\n",
        "# Fit the model\n",
        "model.fit(X_train, y_train, validation_data=(X_test, y_test), epochs=10, batch_size=200, verbose=2)"
      ],
      "execution_count": 36,
      "outputs": [
        {
          "output_type": "stream",
          "text": [
            "Train on 60000 samples, validate on 10000 samples\n",
            "Epoch 1/10\n",
            " - 247s - loss: 0.2315 - acc: 0.9342 - val_loss: 0.0816 - val_acc: 0.9747\n",
            "Epoch 2/10\n",
            " - 247s - loss: 0.0737 - acc: 0.9783 - val_loss: 0.0472 - val_acc: 0.9842\n",
            "Epoch 3/10\n",
            " - 247s - loss: 0.0530 - acc: 0.9837 - val_loss: 0.0429 - val_acc: 0.9859\n",
            "Epoch 4/10\n",
            " - 245s - loss: 0.0402 - acc: 0.9875 - val_loss: 0.0404 - val_acc: 0.9866\n",
            "Epoch 5/10\n",
            " - 245s - loss: 0.0335 - acc: 0.9895 - val_loss: 0.0338 - val_acc: 0.9887\n",
            "Epoch 6/10\n",
            " - 246s - loss: 0.0275 - acc: 0.9914 - val_loss: 0.0302 - val_acc: 0.9895\n",
            "Epoch 7/10\n",
            " - 245s - loss: 0.0231 - acc: 0.9929 - val_loss: 0.0346 - val_acc: 0.9881\n",
            "Epoch 8/10\n",
            " - 245s - loss: 0.0207 - acc: 0.9935 - val_loss: 0.0327 - val_acc: 0.9882\n",
            "Epoch 9/10\n",
            " - 245s - loss: 0.0170 - acc: 0.9945 - val_loss: 0.0303 - val_acc: 0.9894\n",
            "Epoch 10/10\n",
            " - 245s - loss: 0.0141 - acc: 0.9959 - val_loss: 0.0313 - val_acc: 0.9903\n"
          ],
          "name": "stdout"
        },
        {
          "output_type": "execute_result",
          "data": {
            "text/plain": [
              "<keras.callbacks.History at 0x7fe8a7a8e588>"
            ]
          },
          "metadata": {
            "tags": []
          },
          "execution_count": 36
        }
      ]
    },
    {
      "metadata": {
        "id": "t9epG8d02VGS",
        "colab_type": "text"
      },
      "cell_type": "markdown",
      "source": [
        "# Evaluate"
      ]
    },
    {
      "metadata": {
        "id": "ZbCFctB3aMgt",
        "colab_type": "code",
        "colab": {
          "base_uri": "https://localhost:8080/",
          "height": 34
        },
        "outputId": "49070734-8217-40ec-c708-14c58170cfa3"
      },
      "cell_type": "code",
      "source": [
        "# Evaluate the model against the test dataset\n",
        "scores = model.evaluate(X_test, y_test, verbose=0)\n",
        "print(\"Baseline Error: %.2f%%\" % (100-scores[1]*100))"
      ],
      "execution_count": 37,
      "outputs": [
        {
          "output_type": "stream",
          "text": [
            "Baseline Error: 0.97%\n"
          ],
          "name": "stdout"
        }
      ]
    },
    {
      "metadata": {
        "id": "f_AuP1If2w7O",
        "colab_type": "text"
      },
      "cell_type": "markdown",
      "source": [
        "# Save model to disk"
      ]
    },
    {
      "metadata": {
        "id": "KicqVzmYkizG",
        "colab_type": "code",
        "colab": {}
      },
      "cell_type": "code",
      "source": [
        "!mkdir Models\n",
        "!mkdir ModelJS"
      ],
      "execution_count": 0,
      "outputs": []
    },
    {
      "metadata": {
        "id": "i-yfNxq8jJNR",
        "colab_type": "code",
        "colab": {}
      },
      "cell_type": "code",
      "source": [
        "!ls -la"
      ],
      "execution_count": 0,
      "outputs": []
    },
    {
      "metadata": {
        "id": "gPUefyAhmsUB",
        "colab_type": "code",
        "colab": {
          "base_uri": "https://localhost:8080/",
          "height": 34
        },
        "outputId": "e127b56c-93a8-41e8-d87c-d4dbb0500f44"
      },
      "cell_type": "code",
      "source": [
        "# Save Python model\n",
        "model.save('Models/model.h5',overwrite=True)\n",
        "print(\"Saved model to disk\")"
      ],
      "execution_count": 40,
      "outputs": [
        {
          "output_type": "stream",
          "text": [
            "Saved model to disk\n"
          ],
          "name": "stdout"
        }
      ]
    },
    {
      "metadata": {
        "id": "Sg4QxqRg22wq",
        "colab_type": "text"
      },
      "cell_type": "markdown",
      "source": [
        "# Export the model\n",
        "to json file that we can later use as an API"
      ]
    },
    {
      "metadata": {
        "id": "W1l7zjBYW6NE",
        "colab_type": "code",
        "colab": {}
      },
      "cell_type": "code",
      "source": [
        "!pip3 install tensorflowjs"
      ],
      "execution_count": 0,
      "outputs": []
    },
    {
      "metadata": {
        "id": "UyfFJXAQnDQy",
        "colab_type": "code",
        "colab": {
          "base_uri": "https://localhost:8080/",
          "height": 34
        },
        "outputId": "75966ab0-c632-4c91-9263-879cf77fa937"
      },
      "cell_type": "code",
      "source": [
        "!tensorflowjs_converter --input_format=keras Models/model.h5 ModelJS/"
      ],
      "execution_count": 42,
      "outputs": [
        {
          "output_type": "stream",
          "text": [
            "Using TensorFlow backend.\n"
          ],
          "name": "stdout"
        }
      ]
    },
    {
      "metadata": {
        "id": "UNYJnmuRnHhx",
        "colab_type": "code",
        "colab": {
          "base_uri": "https://localhost:8080/",
          "height": 51
        },
        "outputId": "836ca78d-5deb-460c-a2c4-b756a1c1e60b"
      },
      "cell_type": "code",
      "source": [
        "import os\n",
        "from google.colab import files\n",
        "\n",
        "folder = 'ModelJS/'\n",
        "\n",
        "for filename in os.listdir(folder):\n",
        "  files.download('%s%s' % (folder,filename)) \n",
        "  print(\"download: %s%s\" % (folder,filename))"
      ],
      "execution_count": 43,
      "outputs": [
        {
          "output_type": "stream",
          "text": [
            "download: ModelJS/group1-shard1of1\n",
            "download: ModelJS/model.json\n"
          ],
          "name": "stdout"
        }
      ]
    }
  ]
}
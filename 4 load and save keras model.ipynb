{
  "nbformat": 4,
  "nbformat_minor": 0,
  "metadata": {
    "colab": {
      "name": "mnist.ipynb",
      "version": "0.3.2",
      "provenance": []
    },
    "kernelspec": {
      "name": "python3",
      "display_name": "Python 3"
    }
  },
  "cells": [
    {
      "metadata": {
        "id": "tcMm_UBRrAjR",
        "colab_type": "text"
      },
      "cell_type": "markdown",
      "source": [
        "## Save and load a Keras model"
      ]
    },
    {
      "metadata": {
        "id": "JVDdm-GxXd7r",
        "colab_type": "code",
        "colab": {
          "base_uri": "https://localhost:8080/",
          "height": 35
        },
        "outputId": "897f34a2-307c-4358-d9b7-1fa662c99c29"
      },
      "cell_type": "code",
      "source": [
        "import numpy\n",
        "%matplotlib inline\n",
        "import matplotlib.pyplot as plt\n",
        "\n",
        "from keras.utils import np_utils\n",
        "from keras.datasets import mnist\n",
        "\n",
        "from keras.models import Sequential\n",
        "from keras.layers import Dense\n",
        "from keras.layers import Dropout\n",
        "from keras.layers import Flatten\n",
        "from keras.layers.convolutional import Convolution2D\n",
        "from keras.layers.convolutional import MaxPooling2D\n",
        "\n",
        "from keras.callbacks import EarlyStopping"
      ],
      "execution_count": 1,
      "outputs": [
        {
          "output_type": "stream",
          "text": [
            "Using TensorFlow backend.\n"
          ],
          "name": "stderr"
        }
      ]
    },
    {
      "metadata": {
        "id": "4CncfLHnXsrG",
        "colab_type": "code",
        "colab": {}
      },
      "cell_type": "code",
      "source": [
        "# fix random seed for reproducibility\n",
        "seed = 7\n",
        "numpy.random.seed(seed)"
      ],
      "execution_count": 0,
      "outputs": []
    },
    {
      "metadata": {
        "id": "4QPM2H0sYoIa",
        "colab_type": "code",
        "colab": {
          "base_uri": "https://localhost:8080/",
          "height": 54
        },
        "outputId": "b409fddb-8144-4497-8179-2b3869bc999b"
      },
      "cell_type": "code",
      "source": [
        "# load data\n",
        "(X_train, y_train), (X_test, y_test) = mnist.load_data()"
      ],
      "execution_count": 3,
      "outputs": [
        {
          "output_type": "stream",
          "text": [
            "Downloading data from https://s3.amazonaws.com/img-datasets/mnist.npz\n",
            "11493376/11490434 [==============================] - 4s 0us/step\n"
          ],
          "name": "stdout"
        }
      ]
    },
    {
      "metadata": {
        "id": "9Tdnz28uY9Gq",
        "colab_type": "code",
        "colab": {}
      },
      "cell_type": "code",
      "source": [
        "# reshape to be [samples][pixels][width][height]\n",
        "X_train = X_train.reshape(X_train.shape[0], 1, 28, 28).astype('float32')\n",
        "X_test = X_test.reshape(X_test.shape[0], 1, 28, 28).astype('float32')"
      ],
      "execution_count": 0,
      "outputs": []
    },
    {
      "metadata": {
        "id": "0OJ5dt8xDI0l",
        "colab_type": "code",
        "colab": {}
      },
      "cell_type": "code",
      "source": [
        "# normalize inputs from 0-255 to 0-1\n",
        "X_train = np_utils.normalize(X_train, axis=1)\n",
        "X_test = np_utils.normalize(X_test, axis=1)"
      ],
      "execution_count": 0,
      "outputs": []
    },
    {
      "metadata": {
        "id": "qOjIH7QODNeF",
        "colab_type": "code",
        "colab": {}
      },
      "cell_type": "code",
      "source": [
        "# one hot encode outputs\n",
        "y_train = np_utils.to_categorical(y_train)\n",
        "y_test = np_utils.to_categorical(y_test)\n",
        "num_classes = y_test.shape[1]"
      ],
      "execution_count": 0,
      "outputs": []
    },
    {
      "metadata": {
        "id": "PT7Owre6DQ_r",
        "colab_type": "code",
        "outputId": "5ff7acce-1995-47d2-964d-0e858cae0a02",
        "colab": {
          "base_uri": "https://localhost:8080/",
          "height": 283
        }
      },
      "cell_type": "code",
      "source": [
        "def plot_images(images, labels):\n",
        "  # Create figure with 2x2 sub-plots.\n",
        "  fig, axes = plt.subplots(2, 2)\n",
        "  fig.subplots_adjust(hspace=0.3, wspace=0.3)\n",
        "\n",
        "  # plot 4 images\n",
        "  for i, ax in enumerate(axes.flat):\n",
        "    # Plot image\n",
        "    ax.imshow(images[i].reshape([28,28]), cmap=plt.get_cmap('gray'))\n",
        "    \n",
        "    # Plot label\n",
        "    for idx, val in enumerate(labels[i]):\n",
        "      if(val == 1):\n",
        "        ax.set_xlabel('Label : %d' % idx)\n",
        "        \n",
        "  plt.show()\n",
        "  \n",
        "plot_images(X_train[0:4], y_train[0:4])"
      ],
      "execution_count": 7,
      "outputs": [
        {
          "output_type": "display_data",
          "data": {
            "image/png": "[encoded data removed]",
            "text/plain": [
              "<Figure size 432x288 with 4 Axes>"
            ]
          },
          "metadata": {
            "tags": []
          }
        }
      ]
    },
    {
      "metadata": {
        "id": "9qnmzKX-DTwn",
        "colab_type": "code",
        "colab": {}
      },
      "cell_type": "code",
      "source": [
        "def plot_history(history,name,metric):\n",
        "    label_val = 'val_%s' % metric\n",
        "    \n",
        "    train = history.history[metric]\n",
        "    test  = history.history[label_val]\n",
        "\n",
        "    # Create count of the number of epochs\n",
        "    epoch_count = range(1, len(train) + 1)\n",
        "\n",
        "    # Visualize loss history\n",
        "    plt.plot(epoch_count, train, 'r-')\n",
        "    plt.plot(epoch_count, test, 'b--')\n",
        "    plt.legend(['Train', 'Test'])\n",
        "    plt.xlabel('Epoch')\n",
        "    plt.ylabel(metric)\n",
        "\n",
        "    plt.title('%s : %s' % (metric,name))\n",
        "\n",
        "    plt.show()"
      ],
      "execution_count": 0,
      "outputs": []
    },
    {
      "metadata": {
        "id": "B0Qx8YdVDcM7",
        "colab_type": "code",
        "colab": {}
      },
      "cell_type": "code",
      "source": [
        "es = EarlyStopping(monitor='val_loss',\n",
        "                   min_delta=0,\n",
        "                   patience=1,\n",
        "                   verbose=1,\n",
        "                   mode='auto')"
      ],
      "execution_count": 0,
      "outputs": []
    },
    {
      "metadata": {
        "id": "hsPHVs_DDddU",
        "colab_type": "code",
        "colab": {}
      },
      "cell_type": "code",
      "source": [
        "def baseline_model(num_filters, num_units):\n",
        "  # create model\n",
        "  model = Sequential()\n",
        "  \n",
        "  model.add(Convolution2D(num_filters, (3, 3), activation='relu', input_shape=(1,28,28), data_format='channels_first'))\n",
        "  model.add(MaxPooling2D(pool_size=(2, 2)))\n",
        "  model.add(Dropout(0.2))\n",
        "  \n",
        "  model.add(Flatten())\n",
        "  model.add(Dense(num_units, activation='relu'))\n",
        "\n",
        "  model.add(Dense(num_classes, activation='softmax'))\n",
        "  \n",
        "  # Compile model\n",
        "  model.compile(loss='categorical_crossentropy', optimizer='adam', metrics=['accuracy'])\n",
        "  return model"
      ],
      "execution_count": 0,
      "outputs": []
    },
    {
      "metadata": {
        "id": "ZVScKgKdDklU",
        "colab_type": "code",
        "outputId": "161db616-a42d-4cf2-d1ed-aaac4550e12f",
        "colab": {
          "base_uri": "https://localhost:8080/",
          "height": 917
        }
      },
      "cell_type": "code",
      "source": [
        "filters = [16]\n",
        "units   = [32]\n",
        "\n",
        "for filter in filters:\n",
        "    for unit in units:\n",
        "      \n",
        "        # Name the test model\n",
        "        name = 'test_filters_{}_units_{}'.format(filter, unit)\n",
        "        print(name)\n",
        "\n",
        "        # build the model\n",
        "        model = baseline_model(filter, unit)\n",
        "        \n",
        "        # Fit the model\n",
        "        history = model.fit(X_train, y_train, validation_data=(X_test, y_test),\n",
        "                  epochs=100, batch_size=32, verbose=1, callbacks=[es])\n",
        "        \n",
        "        # Plot the history\n",
        "        plot_history(history,name,'acc')\n",
        "        plot_history(history,name,'loss')\n",
        "       \n",
        "        # Print the summary values\n",
        "        val_loss, val_acc = model.evaluate(X_test,y_test)\n",
        "        \n",
        "        summary = 'Summary: val_loss: {}, val_acc: {}'.format(val_loss, val_acc)\n",
        "        print(summary)"
      ],
      "execution_count": 11,
      "outputs": [
        {
          "output_type": "stream",
          "text": [
            "test_filters_16_units_32\n",
            "Train on 60000 samples, validate on 10000 samples\n",
            "Epoch 1/100\n",
            "60000/60000 [==============================] - 104s 2ms/step - loss: 0.2921 - acc: 0.9107 - val_loss: 0.1447 - val_acc: 0.9571\n",
            "Epoch 2/100\n",
            "60000/60000 [==============================] - 101s 2ms/step - loss: 0.1371 - acc: 0.9577 - val_loss: 0.1008 - val_acc: 0.9693\n",
            "Epoch 3/100\n",
            "60000/60000 [==============================] - 100s 2ms/step - loss: 0.1024 - acc: 0.9680 - val_loss: 0.0867 - val_acc: 0.9738\n",
            "Epoch 4/100\n",
            "60000/60000 [==============================] - 102s 2ms/step - loss: 0.0822 - acc: 0.9746 - val_loss: 0.0805 - val_acc: 0.9742\n",
            "Epoch 5/100\n",
            "60000/60000 [==============================] - 101s 2ms/step - loss: 0.0689 - acc: 0.9774 - val_loss: 0.0782 - val_acc: 0.9743\n",
            "Epoch 6/100\n",
            "60000/60000 [==============================] - 101s 2ms/step - loss: 0.0597 - acc: 0.9803 - val_loss: 0.0744 - val_acc: 0.9783\n",
            "Epoch 7/100\n",
            "60000/60000 [==============================] - 101s 2ms/step - loss: 0.0529 - acc: 0.9821 - val_loss: 0.0759 - val_acc: 0.9773\n",
            "Epoch 00007: early stopping\n"
          ],
          "name": "stdout"
        },
        {
          "output_type": "display_data",
          "data": {
            "image/png": "[encoded data removed]",
            "text/plain": [
              "<Figure size 432x288 with 1 Axes>"
            ]
          },
          "metadata": {
            "tags": []
          }
        },
        {
          "output_type": "display_data",
          "data": {
            "image/png": "[encoded data removed]",
            "text/plain": [
              "<Figure size 432x288 with 1 Axes>"
            ]
          },
          "metadata": {
            "tags": []
          }
        },
        {
          "output_type": "stream",
          "text": [
            "10000/10000 [==============================] - 10s 994us/step\n",
            "Summary: val_loss: 0.07590725571778603, val_acc: 0.9773\n"
          ],
          "name": "stdout"
        }
      ]
    },
    {
      "metadata": {
        "id": "B6s87dH1pt5U",
        "colab_type": "code",
        "colab": {}
      },
      "cell_type": "code",
      "source": [
        "# Save the model\n",
        "model.save('mnist_model.h5')"
      ],
      "execution_count": 0,
      "outputs": []
    },
    {
      "metadata": {
        "id": "p7rs4NqNqiyq",
        "colab_type": "code",
        "colab": {}
      },
      "cell_type": "code",
      "source": [
        "# Load the model\n",
        "from keras.models import load_model\n",
        "loaded_model = load_model('mnist_model.h5')"
      ],
      "execution_count": 0,
      "outputs": []
    },
    {
      "metadata": {
        "id": "cRQTz2AHqobB",
        "colab_type": "code",
        "colab": {
          "base_uri": "https://localhost:8080/",
          "height": 363
        },
        "outputId": "b7dbf37e-ff16-4e57-84b5-64c295abb5ae"
      },
      "cell_type": "code",
      "source": [
        "loaded_model.summary()"
      ],
      "execution_count": 15,
      "outputs": [
        {
          "output_type": "stream",
          "text": [
            "_________________________________________________________________\n",
            "Layer (type)                 Output Shape              Param #   \n",
            "=================================================================\n",
            "conv2d_1 (Conv2D)            (None, 16, 26, 26)        160       \n",
            "_________________________________________________________________\n",
            "max_pooling2d_1 (MaxPooling2 (None, 8, 13, 26)         0         \n",
            "_________________________________________________________________\n",
            "dropout_1 (Dropout)          (None, 8, 13, 26)         0         \n",
            "_________________________________________________________________\n",
            "flatten_1 (Flatten)          (None, 2704)              0         \n",
            "_________________________________________________________________\n",
            "dense_1 (Dense)              (None, 32)                86560     \n",
            "_________________________________________________________________\n",
            "dense_2 (Dense)              (None, 10)                330       \n",
            "=================================================================\n",
            "Total params: 87,050\n",
            "Trainable params: 87,050\n",
            "Non-trainable params: 0\n",
            "_________________________________________________________________\n"
          ],
          "name": "stdout"
        }
      ]
    },
    {
      "metadata": {
        "id": "0B5OLxN0qtxJ",
        "colab_type": "code",
        "colab": {
          "base_uri": "https://localhost:8080/",
          "height": 3999
        },
        "outputId": "e7e3125e-0dcc-48c3-e34c-1cd49ba816bb"
      },
      "cell_type": "code",
      "source": [
        "loaded_model.get_weights()\n"
      ],
      "execution_count": 16,
      "outputs": [
        {
          "output_type": "execute_result",
          "data": {
            "text/plain": [
              "[array([[[[ 1.34977857e-02, -3.16391662e-02, -8.27834368e-01,\n",
              "            2.20812276e-01,  1.10244103e-01, -7.62038380e-02,\n",
              "           -5.07353604e-01,  3.02781612e-02, -6.16889298e-01,\n",
              "            5.52076250e-02, -2.87002504e-01, -1.52058825e-01,\n",
              "            3.23039800e-01, -1.27543166e-01, -8.19418877e-02,\n",
              "            1.18414700e-01]],\n",
              " \n",
              "         [[ 2.01365538e-02,  3.93479541e-02, -2.70961612e-01,\n",
              "            3.87300938e-01,  1.65660903e-01, -3.72337699e-02,\n",
              "           -1.15225218e-01,  3.73549499e-02,  1.93667293e-01,\n",
              "           -1.85809597e-01, -2.26128370e-01, -1.74681470e-02,\n",
              "            2.16252029e-01, -7.92109609e-01, -1.57746568e-01,\n",
              "            1.29380673e-01]],\n",
              " \n",
              "         [[-1.24279179e-01,  1.54859722e-01, -4.86591101e-01,\n",
              "            3.36836427e-02, -2.77989894e-01, -1.05907306e-01,\n",
              "           -3.51901680e-01, -1.18619557e-02,  4.30975199e-01,\n",
              "           -5.52053571e-01, -3.66133362e-01, -1.31896082e-02,\n",
              "           -2.95703232e-01, -3.69133830e-01, -2.21775874e-01,\n",
              "            1.72957778e-01]]],\n",
              " \n",
              " \n",
              "        [[[ 7.92107657e-02,  3.79107334e-02, -2.82017857e-01,\n",
              "            3.53094004e-02,  4.15259935e-02,  3.75394747e-02,\n",
              "            3.22743952e-01,  7.19531029e-02, -6.79204285e-01,\n",
              "            3.52180421e-01,  1.82686284e-01, -5.89868650e-02,\n",
              "            3.76697421e-01, -7.26494968e-01, -3.68124479e-03,\n",
              "            2.14091614e-01]],\n",
              " \n",
              "         [[-1.47279441e-01,  1.71866208e-01, -2.12733790e-01,\n",
              "            2.27434650e-01,  2.57048637e-01, -1.43234968e-01,\n",
              "           -1.11267045e-01,  1.18532598e-01,  1.98427156e-01,\n",
              "            1.62471399e-01,  3.76034155e-02, -1.29402816e-01,\n",
              "            3.38462353e-01,  1.80509776e-01,  9.47707370e-02,\n",
              "            5.74976206e-02]],\n",
              " \n",
              "         [[-1.07892394e-01,  1.26946047e-01, -1.42450348e-01,\n",
              "           -5.29526651e-01,  7.31707143e-04, -1.78111613e-01,\n",
              "            1.76569745e-01,  2.31864691e-01,  3.66097659e-01,\n",
              "           -5.60061693e-01,  1.56545430e-01, -9.14405063e-02,\n",
              "           -7.39145458e-01,  5.09958565e-01,  2.07713231e-01,\n",
              "            9.45696831e-02]]],\n",
              " \n",
              " \n",
              "        [[[-6.49318025e-02,  1.68863699e-01,  2.72946209e-01,\n",
              "           -9.27728355e-01, -2.49988332e-01, -1.28482476e-01,\n",
              "            1.21516496e-01,  2.03839373e-02, -7.11712778e-01,\n",
              "            3.09538901e-01,  3.14471781e-01,  5.16288467e-02,\n",
              "            9.44753066e-02, -5.19657731e-01, -5.58028370e-02,\n",
              "            1.56987637e-01]],\n",
              " \n",
              "         [[ 7.57004395e-02,  3.74448150e-02,  4.92872506e-01,\n",
              "           -3.21029454e-01,  2.53578365e-01, -7.53955171e-02,\n",
              "           -4.52112049e-01,  8.79349187e-02, -1.57466084e-01,\n",
              "            1.91111952e-01,  1.73659146e-01,  1.02103474e-02,\n",
              "           -6.09155655e-01,  1.10133141e-01, -1.24440379e-01,\n",
              "            5.51091060e-02]],\n",
              " \n",
              "         [[-1.17321745e-01,  1.40715167e-01,  2.85649747e-01,\n",
              "           -1.07112072e-01,  2.87087232e-01,  3.96000482e-02,\n",
              "           -3.48556548e-01,  1.08566873e-01,  1.76419258e-01,\n",
              "           -3.39315772e-01,  1.73624843e-01,  3.12807374e-02,\n",
              "           -5.41940928e-01,  4.25799549e-01, -1.99806124e-01,\n",
              "           -1.19951844e-01]]]], dtype=float32),\n",
              " array([-0.1268291 , -0.4363062 , -0.03815038, -0.02162997, -0.36122322,\n",
              "        -0.09924811, -0.02984073, -0.35022965, -0.3103601 , -0.15864547,\n",
              "        -0.19880679, -0.0850721 , -0.23285435, -0.04304754, -0.02183497,\n",
              "        -0.48804295], dtype=float32),\n",
              " array([[-0.01377056, -0.01880573, -0.01608173, ..., -0.04428396,\n",
              "          0.01340571, -0.02136236],\n",
              "        [-0.0558999 , -0.02572414, -0.04849901, ...,  0.03636396,\n",
              "          0.04500662, -0.0328458 ],\n",
              "        [-0.10131348,  0.02269674, -0.09348799, ...,  0.06310125,\n",
              "          0.06055323, -0.06108324],\n",
              "        ...,\n",
              "        [-0.01930969,  0.08983053, -0.01934463, ...,  0.00808668,\n",
              "          0.0441861 ,  0.06767646],\n",
              "        [ 0.03722745,  0.02611238, -0.01941076, ..., -0.06661546,\n",
              "         -0.04112585,  0.03287178],\n",
              "        [-0.02409607,  0.02452653,  0.04017187, ..., -0.0056483 ,\n",
              "         -0.01304551, -0.02199341]], dtype=float32),\n",
              " array([-0.19478047,  0.09679579, -0.15260367,  0.01686596, -0.00821245,\n",
              "         0.04669147,  0.1366418 , -0.21895306, -0.06857885,  0.12564126,\n",
              "        -0.0426307 , -0.00556371,  0.0038061 ,  0.03426149,  0.09817288,\n",
              "        -0.00857352, -0.03058457,  0.2253152 ,  0.09076985, -0.12023833,\n",
              "         0.1608332 ,  0.08592935,  0.01071791,  0.0697417 ,  0.19823807,\n",
              "         0.00530215, -0.09790614, -0.00322347, -0.01303246,  0.11048605,\n",
              "        -0.00178358,  0.07553353], dtype=float32),\n",
              " array([[-1.23533025e-01, -6.55428916e-02, -7.96455517e-02,\n",
              "          1.44836204e-02,  1.54559776e-01, -4.71362174e-01,\n",
              "          1.23137452e-01, -5.04311323e-01,  2.14689896e-01,\n",
              "          3.29952031e-01],\n",
              "        [-6.70424029e-02, -2.03764066e-01,  3.00713092e-01,\n",
              "         -1.78088054e-01, -6.53943047e-02,  1.50382891e-01,\n",
              "          1.89101011e-01, -7.36092925e-01, -4.84744072e-01,\n",
              "          4.98557016e-02],\n",
              "        [ 1.65001959e-01, -4.00652200e-01,  3.12221915e-01,\n",
              "         -1.83346629e-01,  1.22474521e-01, -3.24846841e-02,\n",
              "         -3.98429036e-01,  3.88787827e-03,  1.72813341e-01,\n",
              "          1.91924348e-01],\n",
              "        [ 3.72312158e-01, -4.09840375e-01,  9.04811639e-03,\n",
              "          2.90029109e-01, -1.18553758e-01, -1.48963988e-01,\n",
              "          3.42505455e-01, -7.17762709e-01, -1.37705892e-01,\n",
              "         -5.12646198e-01],\n",
              "        [-3.09115320e-01, -3.54341000e-01, -2.81241775e-01,\n",
              "         -2.27870852e-01,  1.76947385e-01, -2.20985308e-01,\n",
              "         -5.93977049e-02, -3.62462103e-01,  1.34326354e-01,\n",
              "          2.01061994e-01],\n",
              "        [ 3.68725061e-01, -2.40007505e-01,  5.35554051e-01,\n",
              "         -1.90003127e-01, -5.59726477e-01, -3.23647738e-01,\n",
              "         -5.20968735e-01,  4.11014885e-01, -6.31128401e-02,\n",
              "          2.02228665e-01],\n",
              "        [ 3.59324180e-02,  3.43378901e-01,  4.93493408e-01,\n",
              "          2.47673631e-01, -6.08062804e-01, -4.33263004e-01,\n",
              "         -6.64257050e-01,  2.87342221e-01, -3.18936408e-01,\n",
              "         -4.89981681e-01],\n",
              "        [ 1.27544031e-01, -5.74389458e-01, -2.20460504e-01,\n",
              "         -2.10859761e-01,  4.71939445e-02, -1.27138337e-03,\n",
              "          1.34404734e-01,  7.45045319e-02,  3.51050466e-01,\n",
              "         -1.90758824e-01],\n",
              "        [-3.83676559e-01, -5.49496524e-02,  1.90703850e-02,\n",
              "          2.24374548e-01, -6.87093794e-01,  1.85339488e-02,\n",
              "         -3.47348481e-01,  2.40267385e-02,  1.22525394e-01,\n",
              "          3.43497582e-02],\n",
              "        [-1.53346926e-01, -6.55819997e-02, -6.35928750e-01,\n",
              "         -2.11831897e-01, -5.24616480e-01,  5.64379096e-01,\n",
              "          4.36172545e-01, -4.46219534e-01, -3.70283753e-01,\n",
              "         -9.16640460e-02],\n",
              "        [-9.97377634e-02, -2.37918839e-01, -6.60697460e-01,\n",
              "         -2.67443687e-01,  2.72383660e-01,  1.77599475e-01,\n",
              "          4.90810484e-01,  1.72599748e-01, -1.54137507e-01,\n",
              "         -2.68649220e-01],\n",
              "        [-3.27437818e-01, -2.23877907e-01, -1.86039045e-01,\n",
              "          3.33417028e-01,  1.27489105e-01, -6.08968399e-02,\n",
              "         -8.94458771e-01,  4.34828281e-01, -5.42542227e-02,\n",
              "          3.53661835e-01],\n",
              "        [-6.68541074e-01,  3.92136462e-02,  3.05275202e-01,\n",
              "          4.22379553e-01, -1.41659424e-01,  1.90764561e-01,\n",
              "         -5.43624401e-01,  5.03826141e-02,  5.54905646e-02,\n",
              "          1.94032356e-01],\n",
              "        [-1.42681926e-01, -5.93626499e-01,  3.54044706e-01,\n",
              "          7.10867229e-04,  8.95401537e-02, -3.21405888e-01,\n",
              "          3.97179931e-01,  3.44661027e-01, -6.36561990e-01,\n",
              "          1.47006214e-01],\n",
              "        [ 1.97365120e-01,  1.89315557e-01, -1.45518526e-01,\n",
              "          5.26548475e-02, -3.70223790e-01,  4.43754911e-01,\n",
              "         -6.58378676e-02,  8.23924318e-02,  2.59537607e-01,\n",
              "          1.95619434e-01],\n",
              "        [-3.72143984e-01, -1.37957409e-01, -3.56563956e-01,\n",
              "          3.45424533e-01, -1.23408727e-01, -1.39428154e-01,\n",
              "          3.11231334e-02, -2.81168103e-01,  2.69756556e-01,\n",
              "          6.81695268e-02],\n",
              "        [ 3.93644303e-01, -4.00179684e-01, -2.08859593e-01,\n",
              "          3.13088685e-01, -6.46208704e-01,  2.25545540e-01,\n",
              "          2.76191622e-01, -5.76891098e-03,  1.04840390e-01,\n",
              "          1.68416828e-01],\n",
              "        [-1.49404854e-01,  2.89441556e-01, -8.12923074e-01,\n",
              "          4.14164633e-01,  1.70763524e-03,  1.51666492e-01,\n",
              "          4.43793386e-02,  2.70063967e-01, -4.08950001e-01,\n",
              "         -5.61095700e-02],\n",
              "        [-4.63562429e-01,  3.39940280e-01,  4.17735517e-01,\n",
              "         -2.22629055e-01, -3.76982391e-01,  1.03459001e-01,\n",
              "          1.27481878e-01, -6.73718303e-02,  1.18923634e-01,\n",
              "         -4.82397914e-01],\n",
              "        [-5.59967875e-01, -3.81133616e-01,  4.42319252e-02,\n",
              "         -1.93721682e-01,  1.75609455e-01,  4.03786361e-01,\n",
              "          1.18527122e-01, -1.39978758e-04,  1.21542029e-01,\n",
              "          6.79042190e-02],\n",
              "        [ 3.43436688e-01,  8.03915560e-01,  1.12884603e-01,\n",
              "         -4.11168396e-01, -2.21691996e-01, -2.79029697e-01,\n",
              "          6.54642507e-02,  5.93385398e-01, -8.02105367e-01,\n",
              "         -2.11882293e-01],\n",
              "        [-7.20980346e-01,  3.96518439e-01, -6.81002066e-02,\n",
              "          1.06072105e-01,  4.21080977e-01, -2.59946734e-01,\n",
              "         -4.84743059e-01,  4.09589469e-01, -1.38264894e-01,\n",
              "         -3.28853071e-01],\n",
              "        [ 2.20557943e-01,  4.87711579e-01, -3.14126998e-01,\n",
              "         -7.43388414e-01,  9.95358676e-02, -6.40827239e-01,\n",
              "          2.16635093e-01,  6.03924925e-03,  3.00187260e-01,\n",
              "         -2.68823862e-01],\n",
              "        [ 4.48821038e-01,  2.67639130e-01,  1.44797817e-01,\n",
              "         -6.61662579e-01, -1.59836844e-01, -6.24372482e-01,\n",
              "         -1.34815842e-01,  3.34845871e-01, -2.46528253e-01,\n",
              "         -1.03777699e-01],\n",
              "        [ 2.23752335e-02,  5.36057174e-01,  3.04605305e-01,\n",
              "         -3.43929172e-01,  2.77898341e-01, -3.37320656e-01,\n",
              "          1.04514875e-01, -4.43779260e-01, -7.81616986e-01,\n",
              "          3.07773381e-01],\n",
              "        [-8.95504415e-01, -3.07919323e-01, -3.98704350e-01,\n",
              "          3.48874927e-01,  4.71937984e-01,  1.89771175e-01,\n",
              "         -9.18811440e-01, -2.73612261e-01, -4.99022543e-01,\n",
              "          4.63016570e-01],\n",
              "        [ 2.39866212e-01, -2.50999689e-01,  1.67645276e-01,\n",
              "         -4.61568981e-01,  4.37778950e-01, -2.21623313e-02,\n",
              "         -3.34034562e-01, -3.35911751e-01,  2.02469140e-01,\n",
              "          2.42381364e-01],\n",
              "        [-1.70992956e-01,  2.56657332e-01,  4.34388220e-01,\n",
              "          1.42541379e-01, -2.01761916e-01, -8.16938505e-02,\n",
              "         -2.62279646e-03,  2.06502631e-01,  3.49695355e-01,\n",
              "         -5.79833329e-01],\n",
              "        [-4.27708775e-01, -1.10132597e-01, -4.31809753e-01,\n",
              "         -7.09679723e-01,  3.22956175e-01, -4.16095734e-01,\n",
              "         -3.70696425e-01,  1.93955991e-02, -5.35715640e-01,\n",
              "          2.58626699e-01],\n",
              "        [ 2.39834100e-01, -5.21200262e-02, -3.30593765e-01,\n",
              "         -2.50615235e-02,  2.55597055e-01,  2.71763206e-01,\n",
              "         -2.92484045e-01, -1.11854792e-01, -2.17364490e-01,\n",
              "         -2.98062831e-01],\n",
              "        [-8.71225744e-02,  1.12293050e-01, -2.27665499e-01,\n",
              "          7.70104723e-03,  1.00235298e-01,  1.15348890e-01,\n",
              "         -3.81341904e-01, -7.06544340e-01,  2.61703998e-01,\n",
              "          6.89767376e-02],\n",
              "        [-4.32593912e-01,  2.66148388e-01, -8.44433308e-01,\n",
              "         -4.33735549e-01,  1.13912299e-01,  5.26096225e-01,\n",
              "         -2.87757874e-01, -1.52903035e-01,  1.30833253e-01,\n",
              "         -2.39741832e-01]], dtype=float32),\n",
              " array([ 0.05478008,  0.1986259 ,  0.04930669,  0.01218775, -0.06996115,\n",
              "         0.14730619, -0.08990004,  0.02839113, -0.1459141 , -0.13265614],\n",
              "       dtype=float32)]"
            ]
          },
          "metadata": {
            "tags": []
          },
          "execution_count": 16
        }
      ]
    },
    {
      "metadata": {
        "id": "Y4yEUrsXqzKS",
        "colab_type": "code",
        "colab": {
          "base_uri": "https://localhost:8080/",
          "height": 35
        },
        "outputId": "48e588af-e76c-40a9-b904-86774e85897d"
      },
      "cell_type": "code",
      "source": [
        "loaded_model.optimizer"
      ],
      "execution_count": 17,
      "outputs": [
        {
          "output_type": "execute_result",
          "data": {
            "text/plain": [
              "<keras.optimizers.Adam at 0x7f827b8ee9b0>"
            ]
          },
          "metadata": {
            "tags": []
          },
          "execution_count": 17
        }
      ]
    },
    {
      "metadata": {
        "id": "SzLLj7frq30R",
        "colab_type": "code",
        "colab": {}
      },
      "cell_type": "code",
      "source": [
        ""
      ],
      "execution_count": 0,
      "outputs": []
    }
  ]
}